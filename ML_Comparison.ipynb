{
 "cells": [
  {
   "cell_type": "markdown",
   "id": "9d6be8e3",
   "metadata": {},
   "source": [
    "# Loading data"
   ]
  },
  {
   "cell_type": "code",
   "execution_count": 86,
   "id": "fa9b4545",
   "metadata": {},
   "outputs": [],
   "source": [
    "import os"
   ]
  },
  {
   "cell_type": "code",
   "execution_count": 87,
   "id": "2a8adf6a",
   "metadata": {},
   "outputs": [
    {
     "name": "stdout",
     "output_type": "stream",
     "text": [
      "/Users/aberkin\n"
     ]
    }
   ],
   "source": [
    "folder = {'test' :'PNP'}\n",
    "statements = {'test' : {}}\n",
    "print(os.getcwd())\n",
    "ds_store_file_location = '/Users/aberkin/PNP/.DS_store'\n",
    "if os.path.isfile(ds_store_file_location):\n",
    "    os.remove(ds_store_file_location)"
   ]
  },
  {
   "cell_type": "code",
   "execution_count": 88,
   "id": "1f690ead",
   "metadata": {},
   "outputs": [],
   "source": [
    "folder = {'test' : 'PNP'}\n",
    "statements = {'test' : {}}"
   ]
  },
  {
   "cell_type": "code",
   "execution_count": 89,
   "id": "97cec3a7",
   "metadata": {},
   "outputs": [],
   "source": [
    "for label, folder in folder.items():\n",
    "    classes = os.listdir(folder)\n",
    "    for classs in classes:\n",
    "        att_files = os.listdir(os.path.join(folder, classs))\n",
    "        for file in att_files:\n",
    "            with open(os.path.join(folder, classs, file), 'r', encoding=\"utf8\", errors='ignore') as att_file:\n",
    "                statements[label].setdefault(classs, []).append(' '.join(att_file.readlines()))"
   ]
  },
  {
   "cell_type": "markdown",
   "id": "fb626c58",
   "metadata": {},
   "source": [
    "# NLP process"
   ]
  },
  {
   "cell_type": "code",
   "execution_count": 90,
   "id": "8cb35bd3",
   "metadata": {},
   "outputs": [],
   "source": [
    "from nltk.stem.porter import PorterStemmer\n",
    "from nltk.corpus import stopwords\n",
    "stemmer = PorterStemmer()\n",
    "#there are other stemmers such as SnowBall stemmer. \n",
    "stop_words=set(stopwords.words(\"english\"))\n",
    "import en_core_web_sm\n",
    "parser = en_core_web_sm.load()"
   ]
  },
  {
   "cell_type": "code",
   "execution_count": 91,
   "id": "fc1f46cf",
   "metadata": {},
   "outputs": [],
   "source": [
    "spacyNLP = {}\n",
    "for classs, text_list in statements['test'].items():\n",
    "    spacyNLP[classs] = [parser(text) for text in text_list]"
   ]
  },
  {
   "cell_type": "code",
   "execution_count": 92,
   "id": "e7649fb7",
   "metadata": {},
   "outputs": [],
   "source": [
    "spacy_atts = {}\n",
    "for classs, text_list in spacyNLP.items():\n",
    "    spacy_atts[classs] = [list(text.sents) for text in text_list]"
   ]
  },
  {
   "cell_type": "code",
   "execution_count": 93,
   "id": "b3321ea5",
   "metadata": {},
   "outputs": [
    {
     "data": {
      "text/plain": [
       "dict"
      ]
     },
     "execution_count": 93,
     "metadata": {},
     "output_type": "execute_result"
    }
   ],
   "source": [
    "type(spacy_atts)"
   ]
  },
  {
   "cell_type": "code",
   "execution_count": 94,
   "id": "139f1a7d",
   "metadata": {},
   "outputs": [],
   "source": [
    "def process_text_custom(text):\n",
    "    sentences = list(parser(text).sents)\n",
    "    stemmed_sentences = []\n",
    "    for sentence in sentences:\n",
    "        stemmed_sentences.append([stemmer.stem(token.text) for token in sentence if not token.is_stop | token.is_punct | token.is_space | token.is_digit| token.like_num])\n",
    "    return [parser(' '.join(sentence)) for sentence in stemmed_sentences]"
   ]
  },
  {
   "cell_type": "code",
   "execution_count": 95,
   "id": "2fda50c9",
   "metadata": {},
   "outputs": [],
   "source": [
    "spacy_clean = {}\n",
    "for classs, text_list in statements['test'].items():\n",
    "    lst = []\n",
    "    for text in text_list:      \n",
    "        lst.append(process_text_custom(text))\n",
    "    spacy_clean[classs] = lst"
   ]
  },
  {
   "cell_type": "code",
   "execution_count": 96,
   "id": "66d5ed62",
   "metadata": {},
   "outputs": [
    {
     "data": {
      "text/plain": [
       "dict"
      ]
     },
     "execution_count": 96,
     "metadata": {},
     "output_type": "execute_result"
    }
   ],
   "source": [
    "type(spacy_clean)"
   ]
  },
  {
   "cell_type": "code",
   "execution_count": 97,
   "id": "ce634e9e",
   "metadata": {},
   "outputs": [],
   "source": [
    "from sklearn.feature_extraction.text import CountVectorizer\n",
    "from sklearn.feature_extraction.text import TfidfVectorizer\n",
    "import numpy as np\n",
    "import pandas as pd"
   ]
  },
  {
   "cell_type": "code",
   "execution_count": 98,
   "id": "99ad9d92",
   "metadata": {},
   "outputs": [],
   "source": [
    "plain_stat = []\n",
    "for classs, value in spacy_clean.items():\n",
    "    for statement in value:\n",
    "        plain_stat.append(' '.join([x.text for x in statement]))"
   ]
  },
  {
   "cell_type": "code",
   "execution_count": 99,
   "id": "444e47e7",
   "metadata": {},
   "outputs": [
    {
     "data": {
      "text/plain": [
       "list"
      ]
     },
     "execution_count": 99,
     "metadata": {},
     "output_type": "execute_result"
    }
   ],
   "source": [
    "type(plain_stat)"
   ]
  },
  {
   "cell_type": "code",
   "execution_count": 100,
   "id": "d1b0b007",
   "metadata": {},
   "outputs": [],
   "source": [
    "vectorizer = TfidfVectorizer(stop_words='english') #min_df = 5"
   ]
  },
  {
   "cell_type": "code",
   "execution_count": 101,
   "id": "ed8f5ce8",
   "metadata": {},
   "outputs": [],
   "source": [
    "#Use SMOTE sampling, when necessary\n",
    "\n",
    "from imblearn.over_sampling import SMOTE\n",
    "sm = SMOTE(sampling_strategy = '0.5',random_state=42)"
   ]
  },
  {
   "cell_type": "markdown",
   "id": "23249fb4",
   "metadata": {},
   "source": [
    "# Machine learning algorithms"
   ]
  },
  {
   "cell_type": "code",
   "execution_count": 102,
   "id": "bb444771",
   "metadata": {},
   "outputs": [],
   "source": [
    "from sklearn.model_selection import cross_val_score, KFold, train_test_split\n",
    "#from sklearn.pipeline import Pipeline # We need to use imblearn pipeline for re-sampling\n",
    "from imblearn.pipeline import Pipeline, make_pipeline\n",
    "from sklearn import metrics\n",
    "from sklearn.model_selection import GridSearchCV\n",
    "from sklearn.metrics import make_scorer\n",
    "from sklearn.metrics import f1_score"
   ]
  },
  {
   "cell_type": "code",
   "execution_count": 103,
   "id": "070d4d61",
   "metadata": {},
   "outputs": [],
   "source": [
    "statement_list = []\n",
    "for classs, value in spacy_clean.items():\n",
    "    for statement in value:\n",
    "        statement_list.append((classs, ' '.join([x.text for x in statement])))"
   ]
  },
  {
   "cell_type": "code",
   "execution_count": 104,
   "id": "1ec5775e",
   "metadata": {},
   "outputs": [],
   "source": [
    "statement_df = pd.DataFrame(statement_list, columns=['classs', 'text'])"
   ]
  },
  {
   "cell_type": "code",
   "execution_count": 105,
   "id": "1272b187",
   "metadata": {},
   "outputs": [
    {
     "name": "stdout",
     "output_type": "stream",
     "text": [
      "1074 190\n"
     ]
    }
   ],
   "source": [
    "X_train, X_test, y_train, y_test = train_test_split(statement_df.text, statement_df.classs, test_size=0.15,random_state=3561)\n",
    "print(len(X_train), len(X_test))"
   ]
  },
  {
   "cell_type": "code",
   "execution_count": null,
   "id": "ed7ff8ad",
   "metadata": {
    "scrolled": true
   },
   "outputs": [],
   "source": []
  },
  {
   "cell_type": "code",
   "execution_count": 106,
   "id": "838fd014",
   "metadata": {},
   "outputs": [],
   "source": [
    "#Naive Bayes\n",
    "from sklearn.naive_bayes import MultinomialNB"
   ]
  },
  {
   "cell_type": "code",
   "execution_count": 108,
   "id": "22c62894",
   "metadata": {},
   "outputs": [],
   "source": [
    "clf_search = Pipeline([\n",
    "      ('vect', TfidfVectorizer()),\n",
    "      #('sm', SMOTE()), #use SMOTE, when necessary\n",
    "      ('clf', MultinomialNB())\n",
    "  ])\n",
    "parameters = { 'vect__stop_words': ['english'],\n",
    "                  'vect__strip_accents': ['unicode'],\n",
    "                'vect__max_features' : [None, 1500, 5000],\n",
    "                'vect__ngram_range': [(1,1), (1,2) ],\n",
    "               # 'vect__max_df' : [(0.90), (0.80), (0.70)],\n",
    "              #  'vect__min_df' : [(0.20), (0.10), (0.05)],\n",
    "               'clf__alpha' : [0.01, 0.1, 1.0], \n",
    "               'clf__fit_prior' : ['True', 'False']\n",
    "               }"
   ]
  },
  {
   "cell_type": "code",
   "execution_count": 80,
   "id": "3aa50596",
   "metadata": {},
   "outputs": [
    {
     "name": "stdout",
     "output_type": "stream",
     "text": [
      "CPU times: user 523 ms, sys: 189 ms, total: 712 ms\n",
      "Wall time: 5.14 s\n"
     ]
    },
    {
     "data": {
      "text/plain": [
       "GridSearchCV(cv=10,\n",
       "             estimator=Pipeline(steps=[('vect', TfidfVectorizer()),\n",
       "                                       ('clf', MultinomialNB())]),\n",
       "             n_jobs=-1,\n",
       "             param_grid={'clf__alpha': [0.01, 0.1, 1.0],\n",
       "                         'clf__fit_prior': ['True', 'False'],\n",
       "                         'vect__max_features': [None, 1500, 5000],\n",
       "                         'vect__ngram_range': [(1, 1), (1, 2)],\n",
       "                         'vect__stop_words': ['english'],\n",
       "                         'vect__strip_accents': ['unicode']},\n",
       "             scoring='accuracy')"
      ]
     },
     "execution_count": 80,
     "metadata": {},
     "output_type": "execute_result"
    }
   ],
   "source": [
    "%%time\n",
    "grid = GridSearchCV(clf_search, param_grid=parameters, scoring='accuracy', cv=10, n_jobs=-1)\n",
    "grid.fit(X_train, y_train)"
   ]
  },
  {
   "cell_type": "code",
   "execution_count": 84,
   "id": "aa5a6050",
   "metadata": {},
   "outputs": [
    {
     "name": "stdout",
     "output_type": "stream",
     "text": [
      "{'clf__alpha': 1.0, 'clf__fit_prior': 'True', 'vect__max_features': None, 'vect__ngram_range': (1, 2), 'vect__stop_words': 'english', 'vect__strip_accents': 'unicode'} 0.8576064382139148\n",
      "              precision    recall  f1-score   support\n",
      "\n",
      "      Nonper       0.74      0.85      0.79        72\n",
      "         Per       0.90      0.82      0.86       118\n",
      "\n",
      "    accuracy                           0.83       190\n",
      "   macro avg       0.82      0.83      0.83       190\n",
      "weighted avg       0.84      0.83      0.83       190\n",
      "\n"
     ]
    }
   ],
   "source": [
    "print(grid.best_params_, grid.best_score_) #this shows the accuracy with the best fitting parameters\n",
    "y_true, y_pred = y_test, grid.predict(X_test)\n",
    "print(metrics.classification_report(y_true, y_pred))"
   ]
  },
  {
   "cell_type": "code",
   "execution_count": 82,
   "id": "8cfb82b1",
   "metadata": {},
   "outputs": [
    {
     "name": "stdout",
     "output_type": "stream",
     "text": [
      "[[61 11]\n",
      " [21 97]]\n",
      "1074 190\n",
      "61 11 21 97\n"
     ]
    }
   ],
   "source": [
    "from sklearn.metrics import confusion_matrix\n",
    "\n",
    "conf_mat = confusion_matrix(y_true, y_pred)\n",
    "\n",
    "print(conf_mat)\n",
    "print(len(X_train), len(X_test))\n",
    "\n",
    "tn, fp, fn, tp = confusion_matrix(y_true, y_pred).ravel()\n",
    "print(tn, fp, fn, tp)"
   ]
  },
  {
   "cell_type": "code",
   "execution_count": 83,
   "id": "dce560ce",
   "metadata": {},
   "outputs": [],
   "source": [
    "#Logistic Regression\n",
    "from sklearn.linear_model import LogisticRegression"
   ]
  },
  {
   "cell_type": "code",
   "execution_count": 109,
   "id": "ff910cec",
   "metadata": {},
   "outputs": [],
   "source": [
    "clf_search = Pipeline([\n",
    "      ('vect', TfidfVectorizer()),\n",
    "      ('clf', LogisticRegression())\n",
    "  ])\n",
    "parameters = { 'vect__stop_words': ['english'],\n",
    "                  'vect__strip_accents': ['unicode'],\n",
    "                'vect__max_features' : [None, 1500, 5000],\n",
    "                'vect__ngram_range': [(1,1), (1,2) ],\n",
    "                # 'vect__max_df' : [(0.90), (0.80), (0.70)],\n",
    "                #'vect__min_df' : [(0.20), (0.10), (0.05)],\n",
    "               'clf__random_state' : [0, 42, 100], \n",
    "               'clf__solver' : ['lbfgs', 'newton-cg', 'sag', 'saga'],\n",
    "                'clf__multi_class' : ['multinomial', 'ovr']\n",
    "               }"
   ]
  },
  {
   "cell_type": "code",
   "execution_count": 110,
   "id": "6bc3c43a",
   "metadata": {},
   "outputs": [
    {
     "name": "stdout",
     "output_type": "stream",
     "text": [
      "CPU times: user 2.81 s, sys: 459 ms, total: 3.27 s\n",
      "Wall time: 17.1 s\n"
     ]
    },
    {
     "data": {
      "text/plain": [
       "GridSearchCV(cv=10,\n",
       "             estimator=Pipeline(steps=[('vect', TfidfVectorizer()),\n",
       "                                       ('clf', LogisticRegression())]),\n",
       "             n_jobs=-1,\n",
       "             param_grid={'clf__multi_class': ['multinomial', 'ovr'],\n",
       "                         'clf__random_state': [0, 42, 100],\n",
       "                         'clf__solver': ['lbfgs', 'newton-cg', 'sag', 'saga'],\n",
       "                         'vect__max_features': [None, 1500, 5000],\n",
       "                         'vect__ngram_range': [(1, 1), (1, 2)],\n",
       "                         'vect__stop_words': ['english'],\n",
       "                         'vect__strip_accents': ['unicode']},\n",
       "             scoring='accuracy')"
      ]
     },
     "execution_count": 110,
     "metadata": {},
     "output_type": "execute_result"
    }
   ],
   "source": [
    "%%time\n",
    "grid = GridSearchCV(clf_search, param_grid=parameters, scoring='accuracy', cv=10, n_jobs= -1)\n",
    "grid.fit(X_train, y_train)"
   ]
  },
  {
   "cell_type": "code",
   "execution_count": 111,
   "id": "47035c38",
   "metadata": {},
   "outputs": [
    {
     "name": "stdout",
     "output_type": "stream",
     "text": [
      "{'clf__multi_class': 'multinomial', 'clf__random_state': 0, 'clf__solver': 'lbfgs', 'vect__max_features': None, 'vect__ngram_range': (1, 2), 'vect__stop_words': 'english', 'vect__strip_accents': 'unicode'} 0.864122533748702\n",
      "              precision    recall  f1-score   support\n",
      "\n",
      "      Nonper       0.74      0.92      0.82        72\n",
      "         Per       0.94      0.81      0.87       118\n",
      "\n",
      "    accuracy                           0.85       190\n",
      "   macro avg       0.84      0.86      0.84       190\n",
      "weighted avg       0.87      0.85      0.85       190\n",
      "\n",
      "0.8473684210526315\n"
     ]
    }
   ],
   "source": [
    "from sklearn.metrics import accuracy_score\n",
    "\n",
    "print(grid.best_params_, grid.best_score_) #this shows the accuracy with the best fitting parameters\n",
    "y_true, y_pred = y_test, grid.predict(X_test)\n",
    "print(metrics.classification_report(y_true, y_pred))\n",
    "print(accuracy_score(y_true, y_pred))"
   ]
  },
  {
   "cell_type": "code",
   "execution_count": 112,
   "id": "4b5e9809",
   "metadata": {},
   "outputs": [
    {
     "name": "stdout",
     "output_type": "stream",
     "text": [
      "[[66  6]\n",
      " [23 95]]\n",
      "1074 190\n",
      "66 6 23 95\n"
     ]
    }
   ],
   "source": [
    "conf_mat = confusion_matrix(y_true, y_pred)\n",
    "\n",
    "print(conf_mat)\n",
    "print(len(X_train), len(X_test))\n",
    "\n",
    "tn, fp, fn, tp = confusion_matrix(y_true, y_pred).ravel()\n",
    "print(tn, fp, fn, tp)"
   ]
  },
  {
   "cell_type": "code",
   "execution_count": 113,
   "id": "625ed80d",
   "metadata": {},
   "outputs": [],
   "source": [
    "#Random Forest Classifier\n",
    "from sklearn.ensemble import RandomForestClassifier"
   ]
  },
  {
   "cell_type": "code",
   "execution_count": 114,
   "id": "e1639d7c",
   "metadata": {},
   "outputs": [],
   "source": [
    "clf_search = Pipeline([\n",
    "      ('vect', TfidfVectorizer()),\n",
    "      ('clf', RandomForestClassifier())\n",
    "  ])\n",
    "parameters = { 'vect__stop_words': ['english'],\n",
    "                  'vect__strip_accents': ['unicode'],\n",
    "                'vect__max_features' : [None, 1500, 5000],\n",
    "                'vect__ngram_range': [(1,1), (1,2) ],\n",
    "                #'vect__max_df' : [(0.90), (0.80), (0.70)],\n",
    "               # 'vect__min_df' : [(0.20), (0.10), (0.05)],\n",
    "               'clf__n_estimators' : [ 10, 100, 1000 ], \n",
    "               'clf__max_depth' : [ None, 5, 10, 100, 1000]\n",
    "               }"
   ]
  },
  {
   "cell_type": "code",
   "execution_count": 115,
   "id": "38c4c4bc",
   "metadata": {},
   "outputs": [
    {
     "name": "stdout",
     "output_type": "stream",
     "text": [
      "CPU times: user 4.58 s, sys: 342 ms, total: 4.92 s\n",
      "Wall time: 2min 5s\n"
     ]
    },
    {
     "data": {
      "text/plain": [
       "GridSearchCV(cv=10,\n",
       "             estimator=Pipeline(steps=[('vect', TfidfVectorizer()),\n",
       "                                       ('clf', RandomForestClassifier())]),\n",
       "             n_jobs=-1,\n",
       "             param_grid={'clf__max_depth': [None, 5, 10, 100, 1000],\n",
       "                         'clf__n_estimators': [10, 100, 1000],\n",
       "                         'vect__max_features': [None, 1500, 5000],\n",
       "                         'vect__ngram_range': [(1, 1), (1, 2)],\n",
       "                         'vect__stop_words': ['english'],\n",
       "                         'vect__strip_accents': ['unicode']},\n",
       "             scoring='accuracy')"
      ]
     },
     "execution_count": 115,
     "metadata": {},
     "output_type": "execute_result"
    }
   ],
   "source": [
    "%%time\n",
    "grid = GridSearchCV(clf_search, param_grid=parameters, scoring='accuracy', cv=10, n_jobs= -1)\n",
    "grid.fit(X_train, y_train)"
   ]
  },
  {
   "cell_type": "code",
   "execution_count": 116,
   "id": "faf87104",
   "metadata": {},
   "outputs": [
    {
     "name": "stdout",
     "output_type": "stream",
     "text": [
      "{'clf__max_depth': 100, 'clf__n_estimators': 1000, 'vect__max_features': None, 'vect__ngram_range': (1, 1), 'vect__stop_words': 'english', 'vect__strip_accents': 'unicode'} 0.851981654551748\n",
      "              precision    recall  f1-score   support\n",
      "\n",
      "      Nonper       0.74      0.82      0.78        72\n",
      "         Per       0.88      0.82      0.85       118\n",
      "\n",
      "    accuracy                           0.82       190\n",
      "   macro avg       0.81      0.82      0.81       190\n",
      "weighted avg       0.83      0.82      0.82       190\n",
      "\n"
     ]
    }
   ],
   "source": [
    "print(grid.best_params_, grid.best_score_) #this shows the accuracy with the best fitting parameters\n",
    "y_true, y_pred = y_test, grid.predict(X_test)\n",
    "print(metrics.classification_report(y_true, y_pred))"
   ]
  },
  {
   "cell_type": "code",
   "execution_count": 117,
   "id": "92e22350",
   "metadata": {},
   "outputs": [
    {
     "name": "stdout",
     "output_type": "stream",
     "text": [
      "[[59 13]\n",
      " [21 97]]\n",
      "1074 190\n",
      "59 13 21 97\n"
     ]
    }
   ],
   "source": [
    "conf_mat = confusion_matrix(y_true, y_pred)\n",
    "\n",
    "print(conf_mat)\n",
    "print(len(X_train), len(X_test))\n",
    "\n",
    "tn, fp, fn, tp = confusion_matrix(y_true, y_pred).ravel()\n",
    "print(tn, fp, fn, tp)"
   ]
  },
  {
   "cell_type": "code",
   "execution_count": 118,
   "id": "cbe85ac0",
   "metadata": {},
   "outputs": [],
   "source": [
    "#Decision Trees\n",
    "from sklearn.tree import DecisionTreeClassifier"
   ]
  },
  {
   "cell_type": "code",
   "execution_count": 119,
   "id": "a29793ce",
   "metadata": {},
   "outputs": [],
   "source": [
    "clf_search = Pipeline([\n",
    "      ('vect', TfidfVectorizer()),\n",
    "      ('clf', DecisionTreeClassifier())\n",
    "  ])\n",
    "parameters = { 'vect__stop_words': ['english'],\n",
    "                  'vect__strip_accents': ['unicode'],\n",
    "                'vect__max_features' : [None, 1500, 5000],\n",
    "                'vect__ngram_range': [(1,1), (1,2) ],\n",
    "                #'vect__max_df' : [(0.90), (0.80), (0.70)],\n",
    "               # 'vect__min_df' : [(0.20), (0.10), (0.05)],\n",
    "               'clf__min_samples_leaf' : [ 0.04, 0.06, 0.08, 1 ], \n",
    "               'clf__max_depth' : [ None, 5, 10, 100, 1000]\n",
    "               }"
   ]
  },
  {
   "cell_type": "code",
   "execution_count": 120,
   "id": "a8cb42cb",
   "metadata": {},
   "outputs": [
    {
     "name": "stdout",
     "output_type": "stream",
     "text": [
      "CPU times: user 1.62 s, sys: 94.3 ms, total: 1.72 s\n",
      "Wall time: 10.3 s\n"
     ]
    },
    {
     "data": {
      "text/plain": [
       "GridSearchCV(cv=10,\n",
       "             estimator=Pipeline(steps=[('vect', TfidfVectorizer()),\n",
       "                                       ('clf', DecisionTreeClassifier())]),\n",
       "             n_jobs=-1,\n",
       "             param_grid={'clf__max_depth': [None, 5, 10, 100, 1000],\n",
       "                         'clf__min_samples_leaf': [0.04, 0.06, 0.08, 1],\n",
       "                         'vect__max_features': [None, 1500, 5000],\n",
       "                         'vect__ngram_range': [(1, 1), (1, 2)],\n",
       "                         'vect__stop_words': ['english'],\n",
       "                         'vect__strip_accents': ['unicode']},\n",
       "             scoring='accuracy')"
      ]
     },
     "execution_count": 120,
     "metadata": {},
     "output_type": "execute_result"
    }
   ],
   "source": [
    "%%time\n",
    "grid = GridSearchCV(clf_search, param_grid=parameters, scoring='accuracy', cv=10, n_jobs= -1)\n",
    "grid.fit(X_train, y_train)"
   ]
  },
  {
   "cell_type": "code",
   "execution_count": 121,
   "id": "cc0b974e",
   "metadata": {},
   "outputs": [
    {
     "name": "stdout",
     "output_type": "stream",
     "text": [
      "{'clf__max_depth': 10, 'clf__min_samples_leaf': 1, 'vect__max_features': None, 'vect__ngram_range': (1, 1), 'vect__stop_words': 'english', 'vect__strip_accents': 'unicode'} 0.7756403599861543\n",
      "              precision    recall  f1-score   support\n",
      "\n",
      "      Nonper       0.64      0.82      0.72        72\n",
      "         Per       0.87      0.72      0.79       118\n",
      "\n",
      "    accuracy                           0.76       190\n",
      "   macro avg       0.75      0.77      0.75       190\n",
      "weighted avg       0.78      0.76      0.76       190\n",
      "\n"
     ]
    }
   ],
   "source": [
    "print(grid.best_params_, grid.best_score_) #this shows the accuracy with the best fitting parameters\n",
    "y_true, y_pred = y_test, grid.predict(X_test)\n",
    "print(metrics.classification_report(y_true, y_pred))"
   ]
  },
  {
   "cell_type": "markdown",
   "id": "6dcfaa19",
   "metadata": {},
   "source": [
    "## Plotting the results"
   ]
  },
  {
   "cell_type": "code",
   "execution_count": 122,
   "id": "5e938c3a",
   "metadata": {},
   "outputs": [],
   "source": [
    "import matplotlib.pyplot as plt\n",
    "import plotly\n",
    "import plotly.graph_objects as go"
   ]
  },
  {
   "cell_type": "code",
   "execution_count": 123,
   "id": "ac878680",
   "metadata": {},
   "outputs": [
    {
     "data": {
      "text/html": [
       "<div>\n",
       "<style scoped>\n",
       "    .dataframe tbody tr th:only-of-type {\n",
       "        vertical-align: middle;\n",
       "    }\n",
       "\n",
       "    .dataframe tbody tr th {\n",
       "        vertical-align: top;\n",
       "    }\n",
       "\n",
       "    .dataframe thead th {\n",
       "        text-align: right;\n",
       "    }\n",
       "</style>\n",
       "<table border=\"1\" class=\"dataframe\">\n",
       "  <thead>\n",
       "    <tr style=\"text-align: right;\">\n",
       "      <th></th>\n",
       "      <th>Inter B</th>\n",
       "      <th>NB</th>\n",
       "      <th>LR</th>\n",
       "      <th>SVM</th>\n",
       "      <th>RF</th>\n",
       "      <th>DT</th>\n",
       "    </tr>\n",
       "  </thead>\n",
       "  <tbody>\n",
       "    <tr>\n",
       "      <th>0</th>\n",
       "      <td>Level 1</td>\n",
       "      <td>0.92</td>\n",
       "      <td>0.92</td>\n",
       "      <td>0.92</td>\n",
       "      <td>0.89</td>\n",
       "      <td>0.75</td>\n",
       "    </tr>\n",
       "    <tr>\n",
       "      <th>1</th>\n",
       "      <td>Level 2</td>\n",
       "      <td>0.86</td>\n",
       "      <td>0.83</td>\n",
       "      <td>0.85</td>\n",
       "      <td>0.78</td>\n",
       "      <td>0.63</td>\n",
       "    </tr>\n",
       "    <tr>\n",
       "      <th>2</th>\n",
       "      <td>Level 3</td>\n",
       "      <td>0.80</td>\n",
       "      <td>0.80</td>\n",
       "      <td>0.83</td>\n",
       "      <td>0.82</td>\n",
       "      <td>0.75</td>\n",
       "    </tr>\n",
       "  </tbody>\n",
       "</table>\n",
       "</div>"
      ],
      "text/plain": [
       "   Inter B    NB    LR   SVM    RF    DT\n",
       "0  Level 1  0.92  0.92  0.92  0.89  0.75\n",
       "1  Level 2  0.86  0.83  0.85  0.78  0.63\n",
       "2  Level 3  0.80  0.80  0.83  0.82  0.75"
      ]
     },
     "execution_count": 123,
     "metadata": {},
     "output_type": "execute_result"
    }
   ],
   "source": [
    "#We save the accuracy results into an excel file, then open it:\n",
    "var = pd.read_excel(\"figure.xlsx\")\n",
    "var.head()"
   ]
  },
  {
   "cell_type": "code",
   "execution_count": 124,
   "id": "9b723412",
   "metadata": {},
   "outputs": [
    {
     "data": {
      "text/plain": [
       "([<matplotlib.axis.XTick at 0x7f96493477c0>,\n",
       "  <matplotlib.axis.XTick at 0x7f9649347790>,\n",
       "  <matplotlib.axis.XTick at 0x7f966aaeea60>],\n",
       " [Text(0, 0, 'L1'), Text(1, 0, 'L2'), Text(2, 0, 'L3')])"
      ]
     },
     "execution_count": 124,
     "metadata": {},
     "output_type": "execute_result"
    },
    {
     "data": {
      "image/png": "[encoded data removed]",
      "text/plain": [
       "<Figure size 432x288 with 1 Axes>"
      ]
     },
     "metadata": {
      "needs_background": "light"
     },
     "output_type": "display_data"
    }
   ],
   "source": [
    "var.plot()\n",
    "plt.xlabel(\"Levels\")\n",
    "plt.ylabel(\"Accuracy\")\n",
    "plt.title('Inter-sentential cause/reason - B') #We can change the title as we plot\n",
    "positions = (0,1,2)\n",
    "labels = (\"L1\", \"L2\", \"L3\")\n",
    "plt.xticks(positions, labels)"
   ]
  }
 ],
 "metadata": {
  "kernelspec": {
   "display_name": "Python 3 (ipykernel)",
   "language": "python",
   "name": "python3"
  },
  "language_info": {
   "codemirror_mode": {
    "name": "ipython",
    "version": 3
   },
   "file_extension": ".py",
   "mimetype": "text/x-python",
   "name": "python",
   "nbconvert_exporter": "python",
   "pygments_lexer": "ipython3",
   "version": "3.8.8"
  }
 },
 "nbformat": 4,
 "nbformat_minor": 5
}
